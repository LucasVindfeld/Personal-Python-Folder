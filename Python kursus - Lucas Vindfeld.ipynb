{
 "cells": [
  {
   "cell_type": "markdown",
   "metadata": {},
   "source": [
    "# Introduktion til Jupyter Notbook Markdown\n",
    "\n",
    "\n",
    "Herunder vil der komme de mest anvendte komadoer til markdown\n",
    "\n",
    "Kan også bruges til *kursiv*, det er også muligt at lave noget i **fed** og ***fed og kursiv***"
   ]
  },
  {
   "cell_type": "markdown",
   "metadata": {},
   "source": [
    "## Python for noobs"
   ]
  },
  {
   "cell_type": "markdown",
   "metadata": {},
   "source": [
    "### Variabler\n",
    "\n",
    "I python er der ingen {} der er heller ingen ;. Det hele er baseret på linieskift og indryk. Det har både nogle fordele, men også ulemper. Det er vigtigt at holde sig for øje, at det nøjagtige antal \n",
    "\n",
    "Ydermere kræver python ikke en specifikation af datatype til variablen.\n"
   ]
  },
  {
   "cell_type": "code",
   "execution_count": 2,
   "metadata": {},
   "outputs": [],
   "source": [
    "#Lad os oprette lidt variabler. Varibaler kan hedde HVAD SOM HELST\n",
    "\n",
    "#Variabel der indeholder HELTAL kaldet \"Int\" eller Integers på engelsk\n",
    "a = 7\n",
    "hest = 2\n",
    "mor = 10\n",
    "\n",
    "#Meeeen ingen æøå eller specaltegn\n",
    "\n",
    "pølse = 5\n",
    "\n",
    "#Kald dem noget forståligt og brugbart som f.eks\n",
    "antal_hjul = 4\n",
    "health = 100\n",
    "ammo = 30\n",
    "speed = 0\n",
    " \n",
    "#Variabel der indeholder KOMMATAL kaldes Float på engelsk\n",
    "b = 2,5\n",
    "\n",
    "#Varialber der inderholder TEKST kaldet String på engelsk\n",
    "c = \"Hej\"\n",
    "\n",
    "#Varibel der indeholder Boolske værdier dvs. SANDT/FALSK på engelsk Bool/Boolean\n",
    "d = False\n",
    "\n",
    "#Pas på vi kan lave rod i det hele\n",
    "#d = \"Hej igen\""
   ]
  },
  {
   "cell_type": "code",
   "execution_count": 3,
   "metadata": {},
   "outputs": [
    {
     "name": "stdout",
     "output_type": "stream",
     "text": [
      "7\n"
     ]
    }
   ],
   "source": [
    "# For at undersøge hvad vi har, eller hvad der gemmer sig i forskellige variabler, kan vi bruge den der hedder \"print\" f.eks:\n",
    "\n",
    "print(a)"
   ]
  },
  {
   "cell_type": "code",
   "execution_count": 4,
   "metadata": {},
   "outputs": [
    {
     "name": "stdout",
     "output_type": "stream",
     "text": [
      "<class 'int'>\n",
      "<class 'tuple'>\n",
      "<class 'str'>\n",
      "<class 'bool'>\n"
     ]
    }
   ],
   "source": [
    "print(type(a))\n",
    "print(type(b))\n",
    "print(type(c))\n",
    "print(type(d))"
   ]
  },
  {
   "cell_type": "code",
   "execution_count": null,
   "metadata": {},
   "outputs": [],
   "source": []
  },
  {
   "cell_type": "code",
   "execution_count": null,
   "metadata": {},
   "outputs": [],
   "source": []
  }
 ],
 "metadata": {
  "kernelspec": {
   "display_name": "Python 3",
   "language": "python",
   "name": "python3"
  },
  "language_info": {
   "codemirror_mode": {
    "name": "ipython",
    "version": 3
   },
   "file_extension": ".py",
   "mimetype": "text/x-python",
   "name": "python",
   "nbconvert_exporter": "python",
   "pygments_lexer": "ipython3",
   "version": "3.7.1"
  }
 },
 "nbformat": 4,
 "nbformat_minor": 2
}
